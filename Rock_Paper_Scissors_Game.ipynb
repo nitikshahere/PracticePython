{
  "nbformat": 4,
  "nbformat_minor": 0,
  "metadata": {
    "colab": {
      "name": "Rock Paper Scissors Game",
      "provenance": [],
      "authorship_tag": "ABX9TyOwRyxn3EZOX7TmcYAkCWPH",
      "include_colab_link": true
    },
    "kernelspec": {
      "name": "python3",
      "display_name": "Python 3"
    },
    "language_info": {
      "name": "python"
    }
  },
  "cells": [
    {
      "cell_type": "markdown",
      "metadata": {
        "id": "view-in-github",
        "colab_type": "text"
      },
      "source": [
        "<a href=\"https://colab.research.google.com/github/nitikshahere/PracticePython/blob/main/Rock_Paper_Scissors_Game.ipynb\" target=\"_parent\"><img src=\"https://colab.research.google.com/assets/colab-badge.svg\" alt=\"Open In Colab\"/></a>"
      ]
    },
    {
      "cell_type": "code",
      "metadata": {
        "id": "1GcIQYJIzC0n"
      },
      "source": [
        "#Exercise 8\n",
        "#Make a two-player Rock-Paper-Scissors game. \n",
        "#(Hint: Ask for player plays (using input), compare them, print out a message of congratulations to the winner, and ask if the players want to start a new game)\n",
        "#Remember the rules:\n",
        "#Rock beats scissors\n",
        "#Scissors beats paper\n",
        "#Paper beats rock\n",
        "\n"
      ],
      "execution_count": 1,
      "outputs": []
    },
    {
      "cell_type": "code",
      "metadata": {
        "colab": {
          "base_uri": "https://localhost:8080/"
        },
        "id": "IZXypZABzZJv",
        "outputId": "588ca5d1-ac58-4f3c-fe0e-578b0e4b2656"
      },
      "source": [
        "print(\"Welcome to The game : Enter Your Choice from Rock , Paper or Scissors\")\n",
        "Player1=input(\"Enter your Choice Player 1 \")\n",
        "Player2=input(\"Enter Your Choice Player 2 \")\n",
        "while True :\n",
        "  if (Player1==\"Rock\" and Player2==\"Scissors\"):\n",
        "    print(\"Congratulations Player 1\")\n",
        "    answer=input(\"Want to Continue? Y/N \")\n",
        "    if (answer ==\"N\"):\n",
        "      break\n",
        "  elif (Player1==\"Scissors\" and Player2==\"Paper\"):\n",
        "    print(\"Congratulations Player 1\")\n",
        "    answer=input(\"Want to Continue? Y/N \")\n",
        "    if (answer ==\"N\"):\n",
        "      break\n",
        "  elif (Player1==\"Paper\" and Player2==\"Rock\"):\n",
        "    print(\"Congratulations Player 1\")\n",
        "    answer=input(\"Want to Continue? Y/N \")\n",
        "    if (answer ==\"N\"):\n",
        "      break\n",
        "  elif (Player2==\"Rock\" and Player1==\"Scissors\"):\n",
        "    print(\"Congratulations Player 2\")\n",
        "    answer=input(\"Want to Continue? Y/N \")\n",
        "    if (answer ==\"N\"):\n",
        "      break\n",
        "  elif  (Player2==\"Scissors\" and Player1==\"Paper\"):\n",
        "    print(\"Congratulations Player 2\")\n",
        "    answer=input(\"Want to Continue? Y/N \")\n",
        "    if (answer ==\"N\"):\n",
        "      break\n",
        "  elif (Player2==\"Paper\" and Player1==\"Rock\"):\n",
        "    print(\"Congratulations Player 2\")\n",
        "    answer=input(\"Want to Continue? Y/N \")\n",
        "    if (answer ==\"N\"):\n",
        "      break\n",
        "  elif (Player1 == Player2):\n",
        "    print(\"Its a Draw!\")\n",
        "    answer=input(\"Want to Continue? Y/N \")\n",
        "    if (answer ==\"N\"):\n",
        "      break\n",
        "  else:\n",
        "     print(\"Wrong Input, Try Again!\")\n",
        "     continue\n",
        "  \n",
        "print(\"HOPE YOU ENJOYED PLAYING THE GAME!\")\n",
        "\n"
      ],
      "execution_count": 12,
      "outputs": [
        {
          "output_type": "stream",
          "text": [
            "Welcome to The game : Enter Your Choice from Rock , Paper or Scissors\n",
            "Enter your Choice Player 1 Rock\n",
            "Enter Your Choice Player 2 Rock\n",
            "Its a Draw!\n",
            "Want to Continue? Y/N Y\n",
            "Its a Draw!\n",
            "Want to Continue? Y/N N\n",
            "HOPE YOU ENJOYED PLAYING THE GAME!\n"
          ],
          "name": "stdout"
        }
      ]
    }
  ]
}