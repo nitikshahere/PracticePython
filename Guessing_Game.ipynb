{
  "nbformat": 4,
  "nbformat_minor": 0,
  "metadata": {
    "colab": {
      "name": "Guessing Game",
      "provenance": [],
      "authorship_tag": "ABX9TyNrplotfb3k/Q1a0fRbU8H5",
      "include_colab_link": true
    },
    "kernelspec": {
      "name": "python3",
      "display_name": "Python 3"
    },
    "language_info": {
      "name": "python"
    }
  },
  "cells": [
    {
      "cell_type": "markdown",
      "metadata": {
        "id": "view-in-github",
        "colab_type": "text"
      },
      "source": [
        "<a href=\"https://colab.research.google.com/github/nitikshahere/PracticePython/blob/main/Guessing_Game.ipynb\" target=\"_parent\"><img src=\"https://colab.research.google.com/assets/colab-badge.svg\" alt=\"Open In Colab\"/></a>"
      ]
    },
    {
      "cell_type": "code",
      "metadata": {
        "id": "ouqjHeLDCkww"
      },
      "source": [
        "#Ex.9\n",
        "#Generate a random number between 1 and 9 (including 1 and 9). Ask the user to guess the number, then tell them whether \n",
        "#they guessed too low, too high, or exactly right. (Hint: remember to use the user input lessons from the very first exercise)\n",
        "#Extras:\n",
        "#Keep the game going until the user types “exit”\n",
        "#keep track of how many guesses the user has taken, and when the game ends, print this out."
      ],
      "execution_count": null,
      "outputs": []
    },
    {
      "cell_type": "code",
      "metadata": {
        "colab": {
          "base_uri": "https://localhost:8080/"
        },
        "id": "6rdErcPYF-tN",
        "outputId": "d06fe412-bbfa-4fc5-969e-d3a105826787"
      },
      "source": [
        "from random import randrange\n",
        "while True :\n",
        "  a=randrange(10)\n",
        "  print (a)\n",
        "  b=int(input(\"Enter your GUESS between 0 to 9: \"))\n",
        "  if (b==a):\n",
        "    print(\"Exactly Right Guess\")\n",
        "  elif (b>a):\n",
        "    print(\"Too High\")\n",
        "  else:\n",
        "    print(\"Too Low\") \n",
        "  answer = input(\"Do you want to continue? Y/N \")\n",
        "  if (answer==\"N\"):\n",
        "   break;\n",
        "  else:\n",
        "   continue;\n",
        "\n",
        "print(\"Hope you enjoyed the game!\")\n"
      ],
      "execution_count": 10,
      "outputs": [
        {
          "output_type": "stream",
          "text": [
            "1\n",
            "Enter your GUESS between 0 to 9: 4\n",
            "Too High\n",
            "Do you want to continue? Y/N Y\n",
            "5\n",
            "Enter your GUESS between 0 to 9: 9\n",
            "Too High\n",
            "Do you want to continue? Y/N Y\n",
            "9\n",
            "Enter your GUESS between 0 to 9: 7\n",
            "Too Low\n",
            "Do you want to continue? Y/N N\n",
            "Hope you enjoyed the game!\n"
          ],
          "name": "stdout"
        }
      ]
    }
  ]
}