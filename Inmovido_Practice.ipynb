{
  "nbformat": 4,
  "nbformat_minor": 0,
  "metadata": {
    "colab": {
      "name": "Inmovido Practice.ipynb",
      "provenance": [],
      "authorship_tag": "ABX9TyPaf1hpt0XWrFbhS2LffIHw",
      "include_colab_link": true
    },
    "kernelspec": {
      "name": "python3",
      "display_name": "Python 3"
    },
    "language_info": {
      "name": "python"
    }
  },
  "cells": [
    {
      "cell_type": "markdown",
      "metadata": {
        "id": "view-in-github",
        "colab_type": "text"
      },
      "source": [
        "<a href=\"https://colab.research.google.com/github/nitikshahere/PracticePython/blob/main/Inmovido_Practice.ipynb\" target=\"_parent\"><img src=\"https://colab.research.google.com/assets/colab-badge.svg\" alt=\"Open In Colab\"/></a>"
      ]
    },
    {
      "cell_type": "markdown",
      "metadata": {
        "id": "uE8ZKRhpro1k"
      },
      "source": [
        "1)Take list of elements from the user and find the square root of each number in the list and store in it another list and print that list.\n",
        "2) write a function which prints all the numbers divisible by 3 and 5\n",
        "3) Write a program to check whether a given letter is vowel or consonant 4) calculate the distance between any two characters given by user (Example distance between “a”and “d”is 3)\n",
        "5) write a function which returns the number of vowels present in the given string \n",
        "6)print all the alphabets by using loop and ascii code\n",
        "7) write a program find the sum of all the even numbers of the list \n",
        "8) write a program for print the squares of all the numbers, except for factors of 3 \n",
        "9)Take 2 strings from user and then replace all the A’s with a’s and then concatenate the 2 strings and print \n",
        "10) write a program to get a list of odd number from the list of numbers given by user (use list comprehension)\n",
        "11) write a program to print lower when you have upper letter in string and vice versa (ifyour input is “aBcD” your output should be “AbCd”) \n"
      ]
    },
    {
      "cell_type": "code",
      "metadata": {
        "colab": {
          "base_uri": "https://localhost:8080/"
        },
        "id": "Xm73gHsxsR2y",
        "outputId": "fc10b198-5edb-4013-c7c6-82bb0bf404bf"
      },
      "source": [
        "#1)Take list of elements from the user and find the square root of each number in the list and store in it another list and print that list.\n",
        "\n",
        "l=int(input(\"Enter the Length of the list: \"))\n",
        "a=[]\n",
        "b=[]\n",
        "for i in range(0,l):\n",
        "  i=int(input(\"Enter a Value: \"))\n",
        "  a.append(i)\n",
        "\n",
        "for i in a:\n",
        "  b.append(pow(i,2)) #b.append(i**2)\n",
        "\n",
        "print(b)\n",
        "\n"
      ],
      "execution_count": 12,
      "outputs": [
        {
          "output_type": "stream",
          "text": [
            "Enter the Length of the list: 3\n",
            "Enter a Value: 1\n",
            "Enter a Value: 2\n",
            "Enter a Value: 3\n",
            "[1, 4, 9]\n"
          ],
          "name": "stdout"
        }
      ]
    },
    {
      "cell_type": "code",
      "metadata": {
        "colab": {
          "base_uri": "https://localhost:8080/"
        },
        "id": "72EkUtgswZoO",
        "outputId": "cd1910a7-ca6f-4d12-ccc2-8e7784a714a9"
      },
      "source": [
        "#2) write a function which prints all the numbers divisible by 3 and 5\n",
        "\n"
      ],
      "execution_count": 11,
      "outputs": [
        {
          "output_type": "stream",
          "text": [
            "[1, 4, 9, 1, 4, 9, 1, 4, 9]\n"
          ],
          "name": "stdout"
        }
      ]
    }
  ]
}