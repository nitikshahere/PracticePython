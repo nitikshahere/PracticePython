{
  "nbformat": 4,
  "nbformat_minor": 0,
  "metadata": {
    "colab": {
      "name": "Inmovido Practice.ipynb",
      "provenance": [],
      "authorship_tag": "ABX9TyOTTETEy7MUUY23w1aqlPMV",
      "include_colab_link": true
    },
    "kernelspec": {
      "name": "python3",
      "display_name": "Python 3"
    },
    "language_info": {
      "name": "python"
    }
  },
  "cells": [
    {
      "cell_type": "markdown",
      "metadata": {
        "id": "view-in-github",
        "colab_type": "text"
      },
      "source": [
        "<a href=\"https://colab.research.google.com/github/nitikshahere/PracticePython/blob/main/Inmovido_Practice.ipynb\" target=\"_parent\"><img src=\"https://colab.research.google.com/assets/colab-badge.svg\" alt=\"Open In Colab\"/></a>"
      ]
    },
    {
      "cell_type": "code",
      "metadata": {
        "colab": {
          "base_uri": "https://localhost:8080/"
        },
        "id": "Xm73gHsxsR2y",
        "outputId": "fc10b198-5edb-4013-c7c6-82bb0bf404bf"
      },
      "source": [
        "#1)Take list of elements from the user and find the square root of each number in the list and store in it another list and print that list.\n",
        "\n",
        "l=int(input(\"Enter the Length of the list: \"))\n",
        "a=[]\n",
        "b=[]\n",
        "for i in range(0,l):\n",
        "  i=int(input(\"Enter a Value: \"))\n",
        "  a.append(i)\n",
        "\n",
        "for i in a:\n",
        "  b.append(pow(i,2)) #b.append(i**2)\n",
        "\n",
        "print(b)\n",
        "\n"
      ],
      "execution_count": 12,
      "outputs": [
        {
          "output_type": "stream",
          "text": [
            "Enter the Length of the list: 3\n",
            "Enter a Value: 1\n",
            "Enter a Value: 2\n",
            "Enter a Value: 3\n",
            "[1, 4, 9]\n"
          ],
          "name": "stdout"
        }
      ]
    },
    {
      "cell_type": "code",
      "metadata": {
        "colab": {
          "base_uri": "https://localhost:8080/"
        },
        "id": "nMx9rsJKlvXC",
        "outputId": "11f0e0d2-d42d-4f67-b9c1-1d73cc94e898"
      },
      "source": [
        "#2) write a function which prints all the numbers divisible by 3 and 5 \n",
        "l1=[]\n",
        "def divi(x):\n",
        "  for i in range(1,x):\n",
        "    if (i%3==0):\n",
        "      if (i%5==0):\n",
        "        print(i)\n",
        "      else:\n",
        "        pass\n",
        "    else:\n",
        "      pass\n",
        "  \n",
        "\n",
        "x=int(input(\"Enter a range end : \"))\n",
        "divi(x)"
      ],
      "execution_count": 38,
      "outputs": [
        {
          "output_type": "stream",
          "text": [
            "Enter a range end : 50\n",
            "15\n",
            "30\n",
            "45\n"
          ],
          "name": "stdout"
        }
      ]
    },
    {
      "cell_type": "code",
      "metadata": {
        "colab": {
          "base_uri": "https://localhost:8080/"
        },
        "id": "72EkUtgswZoO",
        "outputId": "1cfc1321-5830-48cd-ed83-c0b4d4042d29"
      },
      "source": [
        "#3) Write a program to check whether a given letter is vowel or consonant (Doubt)\n",
        "\n",
        "alpha = input(\"Enter a letter to check where Vowel or Consonant : \")\n",
        "x=alpha.lower()\n",
        "if (x=='a')or(x=='e')or(x=='i')or(x=='o')or(x=='u'):\n",
        "\n",
        "  print(alpha +\" \" + \"is A VOWEL\")\n",
        "\n",
        "else:\n",
        "  print(alpha +\" \" + \"is A CONSONANT\")\n"
      ],
      "execution_count": 6,
      "outputs": [
        {
          "output_type": "stream",
          "text": [
            "Enter a letter to check where Vowel or Consonant : a\n",
            "a is A VOWEL\n"
          ],
          "name": "stdout"
        }
      ]
    },
    {
      "cell_type": "code",
      "metadata": {
        "colab": {
          "base_uri": "https://localhost:8080/"
        },
        "id": "VIPko8T5l36J",
        "outputId": "32c3e7f0-0aa8-499d-f131-8f0969e789f7"
      },
      "source": [
        "#4)Calculate the distance between any two characters given by user (Example distance between “a”and “d”is 3)\n",
        "\n",
        "import math\n",
        "a=input(\"Enter a character : \")\n",
        "b=input(\"Enter 2nd character : \")\n",
        "\n",
        "print(abs(ord(a)-ord(b))) \n"
      ],
      "execution_count": 1,
      "outputs": [
        {
          "output_type": "stream",
          "text": [
            "Enter a charactera\n",
            "Enter 2nd characterr\n",
            "17\n"
          ],
          "name": "stdout"
        }
      ]
    },
    {
      "cell_type": "code",
      "metadata": {
        "colab": {
          "base_uri": "https://localhost:8080/"
        },
        "id": "UB7jKVuJmIG0",
        "outputId": "281bb654-c1f6-4d3a-9e82-ff947f91a9db"
      },
      "source": [
        "#5) write a function which returns the number of vowels present in the given string \n",
        "\n",
        "def vowel(s):\n",
        "  count=0\n",
        "  for i in s:\n",
        "    if((i.lower()=='a') or (i.lower()=='e') or (i.lower()=='o') or (i.lower()=='i') or (i.lower()=='u')):\n",
        "      count=count+1\n",
        "    else:\n",
        "      pass\n",
        "  return count\n",
        "s=input(\"Enter a string : \")\n",
        "print(vowel(s),end=(\" \"))\n",
        "print( \"are the no. of vowels present\")"
      ],
      "execution_count": 9,
      "outputs": [
        {
          "output_type": "stream",
          "text": [
            "Enter a string : Apple\n",
            "2 are the no. of vowels present\n"
          ],
          "name": "stdout"
        }
      ]
    },
    {
      "cell_type": "code",
      "metadata": {
        "colab": {
          "base_uri": "https://localhost:8080/"
        },
        "id": "CB5YFjnvmNLy",
        "outputId": "1e313fac-c531-4e13-f600-8e951277f84d"
      },
      "source": [
        "#6)print all the alphabets by using loop and ascii code\n",
        "\n",
        "for i in range(97,123):\n",
        "  print(chr(i),end=\" \")\n",
        "\n",
        "print(\"\\n\")\n",
        "\n",
        "for i in range(65,91):\n",
        "  print(chr(i),end=\" \")\n",
        "\n",
        "\n"
      ],
      "execution_count": 19,
      "outputs": [
        {
          "output_type": "stream",
          "text": [
            "a b c d e f g h i j k l m n o p q r s t u v w x y z \n",
            "\n",
            "A B C D E F G H I J K L M N O P Q R S T U V W X Y Z "
          ],
          "name": "stdout"
        }
      ]
    },
    {
      "cell_type": "code",
      "metadata": {
        "colab": {
          "base_uri": "https://localhost:8080/"
        },
        "id": "ev9YP2vcmTkQ",
        "outputId": "161a6ab7-6e1b-4504-a238-41c1cc162a01"
      },
      "source": [
        "#7) write a program find the sum of all the even numbers of the list\n",
        "\n",
        "l=list(map(int,input(\"Enter the Elements of the list : \").split(\",\")))\n",
        "count=0\n",
        "for i in l:\n",
        "  if(i%2==0):\n",
        "    count=count+i\n",
        "\n",
        "print(count)"
      ],
      "execution_count": 23,
      "outputs": [
        {
          "output_type": "stream",
          "text": [
            "Enter the Elements of the list : 1,2,3,4,5,6\n",
            "12\n"
          ],
          "name": "stdout"
        }
      ]
    },
    {
      "cell_type": "code",
      "metadata": {
        "colab": {
          "base_uri": "https://localhost:8080/"
        },
        "id": "VlcIRGizmZ_z",
        "outputId": "623cda9d-8f6b-4a3e-abcc-d3d7a91bd169"
      },
      "source": [
        "#8) write a program for print the squares of all the numbers, except for factors of 3 \n",
        "\n",
        "l=list(map(int,input(\"Ente the elements : \").split(\",\")))\n",
        "l1=[i**2 for i in l if(i%3!=0)]\n",
        "print(l1)"
      ],
      "execution_count": 35,
      "outputs": [
        {
          "output_type": "stream",
          "text": [
            "Ente the elements : 1,2,3,4,5,6\n",
            "[1, 4, 16, 25]\n"
          ],
          "name": "stdout"
        }
      ]
    },
    {
      "cell_type": "code",
      "metadata": {
        "colab": {
          "base_uri": "https://localhost:8080/"
        },
        "id": "tiR4R7_qmkD0",
        "outputId": "dfbf9092-c2d5-4a62-e5d1-00871d2a3bb7"
      },
      "source": [
        "#9)Take 2 strings from user and then replace all the A’s with a’s and then concatenate the 2 strings and print\n",
        "\n",
        "s1=input(\"Enter your your 1st String:  \")\n",
        "s2=input(\"Enter your 2nd string: \")\n",
        "s3=s1.replace(\"A\",\"a\") +\" \"+s2.replace(\"A\",\"a\")\n",
        "print(s3)\n",
        "\n",
        "\n"
      ],
      "execution_count": 25,
      "outputs": [
        {
          "output_type": "stream",
          "text": [
            "Enter your your 1st String:  Apple\n",
            "Enter your 2nd string: Ant\n",
            "apple ant\n"
          ],
          "name": "stdout"
        }
      ]
    },
    {
      "cell_type": "code",
      "metadata": {
        "colab": {
          "base_uri": "https://localhost:8080/"
        },
        "id": "tYeXEutemodA",
        "outputId": "a795c347-a55f-42df-c047-ba19de13b4b7"
      },
      "source": [
        "#10) write a program to get a list of odd number from the list of numbers given by user (use list comprehension) \n",
        "\n",
        "l=list(map(int,input(\"Enter the Elements in the list : \").split(\",\")))\n",
        "l1=[i for i in l if(i%2!=0)]\n",
        "print(l1)"
      ],
      "execution_count": 33,
      "outputs": [
        {
          "output_type": "stream",
          "text": [
            "Enter the Elements in the list : 1,2,3\n",
            "[1, 3]\n"
          ],
          "name": "stdout"
        }
      ]
    },
    {
      "cell_type": "code",
      "metadata": {
        "colab": {
          "base_uri": "https://localhost:8080/"
        },
        "id": "oPrOs_CTmtVj",
        "outputId": "bf0544ae-3eb1-44a6-cd89-3a39114515a9"
      },
      "source": [
        "#11) write a program to print lower when you have upper letter in string and vice versa (ifyour input is “aBcD” your output should be “AbCd”)\n",
        "\n",
        "a=input(\"Enter a string : \")\n",
        "b=[]\n",
        "for i in a:\n",
        "  if i == i.lower():\n",
        "    b.append(i.upper())\n",
        "  else:\n",
        "    b.append(i.lower())\n",
        "\n",
        "print(str(b))"
      ],
      "execution_count": 13,
      "outputs": [
        {
          "output_type": "stream",
          "text": [
            "Enter a string : Abcd\n",
            "['a', 'B', 'C', 'D']\n"
          ],
          "name": "stdout"
        }
      ]
    },
    {
      "cell_type": "code",
      "metadata": {
        "colab": {
          "base_uri": "https://localhost:8080/"
        },
        "id": "mffUqlBM93mL",
        "outputId": "481b2aa6-93cd-45a7-9d60-bf090f2525ad"
      },
      "source": [
        "#11\n",
        "a=input(\"Enter a string: \")\n",
        "b=\"\"\n",
        "for i in a:\n",
        "  if(i==i.lower()):\n",
        "    b=b+i.upper()\n",
        "  else:\n",
        "    b=b+i.lower()\n",
        "\n",
        "print(b)"
      ],
      "execution_count": 28,
      "outputs": [
        {
          "output_type": "stream",
          "text": [
            "Enter a string: AppLe\n",
            "aPPlE\n"
          ],
          "name": "stdout"
        }
      ]
    }
  ]
}