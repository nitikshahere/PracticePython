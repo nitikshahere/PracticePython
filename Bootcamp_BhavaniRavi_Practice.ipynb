{
  "nbformat": 4,
  "nbformat_minor": 0,
  "metadata": {
    "colab": {
      "name": "Bootcamp-BhavaniRavi-Practice.ipynb",
      "provenance": [],
      "authorship_tag": "ABX9TyOTXzDQZvt51X28reyYEI29",
      "include_colab_link": true
    },
    "kernelspec": {
      "name": "python3",
      "display_name": "Python 3"
    },
    "language_info": {
      "name": "python"
    }
  },
  "cells": [
    {
      "cell_type": "markdown",
      "metadata": {
        "id": "view-in-github",
        "colab_type": "text"
      },
      "source": [
        "<a href=\"https://colab.research.google.com/github/nitikshahere/PracticePython/blob/main/Bootcamp_BhavaniRavi_Practice.ipynb\" target=\"_parent\"><img src=\"https://colab.research.google.com/assets/colab-badge.svg\" alt=\"Open In Colab\"/></a>"
      ]
    },
    {
      "cell_type": "code",
      "metadata": {
        "id": "pzSkplHexRAA"
      },
      "source": [
        "#EXE.1\n",
        "#Create a program that asks the user to enter their name and their age.Print out a message addressed to them that tells them the year that they will turn 100 years old.\n",
        "name = input(\"what is your name? :\")\n",
        "age = int (input(\"How old are you, as of 2021?:\" ))\n",
        "i = (100 - age)\n",
        "year = str(2021+i)\n",
        "print(name +\" will turn 100 years in \"+ year)\n",
        "j = int (input(\"Enter another number to repeat the message multiple times:\"))\n",
        "print(j*(name +\" will turn 100 years in \"+ year))"
      ],
      "execution_count": null,
      "outputs": []
    },
    {
      "cell_type": "code",
      "metadata": {
        "colab": {
          "base_uri": "https://localhost:8080/"
        },
        "id": "IGr6DotH0HV3",
        "outputId": "c21f85ca-1f56-46fb-a7a0-58a7bbbff04a"
      },
      "source": [
        "#EXE.2\n",
        "#Ask the user for a number. Depending on whether the number is even or odd, print out an appropriate message to the user. Hint: how does an even / odd number react differently when divided by 2?\n",
        "#Extras:\n",
        "#If the number is a multiple of 4, print out a different message.\n",
        "#Ask the user for two numbers: one number to check (call it num) and one number to divide by (check). If check divides evenly into num, tell that to the user. If not, print a different appropriate message.\n",
        "\n",
        "num = int(input(\"give me a number to check wheather its even or odd: \"))\n",
        "check = int(input(\"give me a number to divide by: \"))\n",
        "\n",
        "if num % 4 == 0:\n",
        "    print(num, \"is a multiple of 4\")\n",
        "elif num % 2 == 0:\n",
        "    print(num, \"is an even number\")\n",
        "else:\n",
        "    print(num, \"is an odd number\")\n",
        "\n",
        "if num % check == 0:\n",
        "    print(num, \"divides evenly by\", check)\n",
        "else:\n",
        "    print(num, \"does not divide evenly by\", check)\n"
      ],
      "execution_count": null,
      "outputs": [
        {
          "output_type": "stream",
          "text": [
            "give me a number to check wheather its even or odd: 14\n",
            "give me a number to divide by: 2\n",
            "14 is an even number\n",
            "14 divides evenly by 2\n"
          ],
          "name": "stdout"
        }
      ]
    },
    {
      "cell_type": "code",
      "metadata": {
        "id": "Aa-SdO4h5H2G",
        "colab": {
          "base_uri": "https://localhost:8080/"
        },
        "outputId": "4b385b3e-c245-4fa8-cd05-67ad70848342"
      },
      "source": [
        "#EX.3\n",
        "#Take a list, say for example this one:\n",
        "#a = [1, 1, 2, 3, 5, 8, 13, 21, 34, 55, 89]\n",
        "#and write a program that prints out all the elements of the list that are less than 5.\n",
        "#Extras:\n",
        "#Instead of printing the elements one by one, make a new list that has all the elements less than 5 from this list in it and print out this new list.\n",
        "#Write this in one line of Python.\n",
        "#Ask the user for a number and return a list that contains only elements from the original list a that are smaller than that number given by the user.\n",
        "\n",
        "x=[1,1,2,3,5,8,13,21,34,55,89]\n",
        "y=[]\n",
        "for i in range(0,len(x)):\n",
        "  if x[i]<5:\n",
        "    y.append(x[i])\n",
        "\n",
        "print(y)\n",
        "\n"
      ],
      "execution_count": null,
      "outputs": [
        {
          "output_type": "stream",
          "text": [
            "[1, 1, 2, 3]\n"
          ],
          "name": "stdout"
        }
      ]
    },
    {
      "cell_type": "code",
      "metadata": {
        "id": "mmGrzO7o-WY-",
        "colab": {
          "base_uri": "https://localhost:8080/"
        },
        "outputId": "d68ef70e-1c04-4d0f-99fe-603c3d642e85"
      },
      "source": [
        "#EX.4\n",
        "#Create a program that asks the user for a number and then prints out a list of all the divisors of that number. \n",
        "#(If you don’t know what a divisor is, it is a number that divides evenly into another number. For example, 13 is a divisor of 26 because 26 / 13 has no remainder.)\n",
        "\n",
        "x = int(input())\n",
        "y=[]\n",
        "for i in range(1,x):\n",
        "  if (x%i==0):\n",
        "    y.append(i)\n",
        "\n",
        "print(*y)"
      ],
      "execution_count": null,
      "outputs": [
        {
          "output_type": "stream",
          "text": [
            "4\n",
            "1 2\n"
          ],
          "name": "stdout"
        }
      ]
    },
    {
      "cell_type": "code",
      "metadata": {
        "colab": {
          "base_uri": "https://localhost:8080/"
        },
        "id": "Ms0L6PP-JKjg",
        "outputId": "828d2f16-8b62-40e2-c57e-553219645d8f"
      },
      "source": [
        "#EX.5\n",
        "#Take two lists, say for example these two:\n",
        "#a = [1, 1, 2, 3, 5, 8, 13, 21, 34, 55, 89]\n",
        "#b = [1, 2, 3, 4, 5, 6, 7, 8, 9, 10, 11, 12, 13]\n",
        "#and write a program that returns a list that contains only the elements that are common between the lists (without duplicates). Make sure your program works on two lists of different sizes.\n",
        "\n",
        "a = [1, 1, 2, 3, 5, 8, 13, 21, 34, 55, 89]\n",
        "b = [1, 2, 3, 4, 5, 6, 7, 8, 9, 10, 11, 12, 13]\n",
        "c=[]\n",
        "for i in b:\n",
        "  if i in a and i not in c:\n",
        "    c.append(i)\n",
        "\n",
        "print(c)\n"
      ],
      "execution_count": null,
      "outputs": [
        {
          "output_type": "stream",
          "text": [
            "[1, 2, 3, 5, 8, 13]\n"
          ],
          "name": "stdout"
        }
      ]
    },
    {
      "cell_type": "code",
      "metadata": {
        "id": "HkRbCGcNiDgG",
        "colab": {
          "base_uri": "https://localhost:8080/"
        },
        "outputId": "63ac904c-8364-4dc2-f7ec-1cf12ba2e25f"
      },
      "source": [
        "#EX.6\n",
        "#Ask the user for a string and print out whether this string is a palindrome or not. (A palindrome is a string that reads the same forwards and backwards.)\n",
        "\n",
        "s=input(\"Enter a String to Check Palindrome \")\n",
        "\n",
        "c=s[::-1]\n",
        "\n",
        "if (c.upper() == s.upper()) :\n",
        "  print (s,\"IS PALINDROME\")\n",
        "else:\n",
        "  print(s,\"NOT PALINDROME\")\n"
      ],
      "execution_count": 21,
      "outputs": [
        {
          "output_type": "stream",
          "text": [
            "Enter a String to Check Palindrome MoM\n",
            "MoM IS PALINDROME\n"
          ],
          "name": "stdout"
        }
      ]
    },
    {
      "cell_type": "code",
      "metadata": {
        "colab": {
          "base_uri": "https://localhost:8080/"
        },
        "id": "7oZcUHd8rE6q",
        "outputId": "43e8be34-13df-49cf-ed43-a3d4ae36bd00"
      },
      "source": [
        "#Let’s say I give you a list saved in a variable: a = [1, 4, 9, 16, 25, 36, 49, 64, 81, 100]. Write one line of Python that takes this list a and makes a new list that has only the even elements of this list in it.\n",
        "\n",
        "a = [1, 4, 9, 16, 25, 36, 49, 64, 81, 100]\n",
        "list1 = []\n",
        "for i in a:\n",
        "  if (i%2==0):\n",
        "    list1.append(i)\n",
        "\n",
        "print(list1)\n",
        "\n",
        "\n",
        "list1=[i for i in a if (i%2==0) ]\n",
        "print(list1)"
      ],
      "execution_count": 29,
      "outputs": [
        {
          "output_type": "stream",
          "text": [
            "[4, 16, 36, 64, 100]\n",
            "[4, 16, 36, 64, 100]\n"
          ],
          "name": "stdout"
        }
      ]
    },
    {
      "cell_type": "code",
      "metadata": {
        "colab": {
          "base_uri": "https://localhost:8080/"
        },
        "id": "IZXYlCRsuyjz",
        "outputId": "37f42be6-b699-4d59-d0a2-9631750f0310"
      },
      "source": [
        "#Ex.10\n",
        "import random\n",
        "#a = [1, 1, 2, 3, 5, 8, 13, 21, 34, 55, 89]\n",
        "#b = [1, 2, 3, 4, 5, 6, 7, 8, 9, 10, 11, 12, 13]\n",
        "a = random.sample(range(100),12)\n",
        "b = random.sample(range(100),12)\n",
        "c = [i for i in a if i in b ]\n",
        "print (c)"
      ],
      "execution_count": 45,
      "outputs": [
        {
          "output_type": "stream",
          "text": [
            "[47, 56]\n"
          ],
          "name": "stdout"
        }
      ]
    }
  ]
}