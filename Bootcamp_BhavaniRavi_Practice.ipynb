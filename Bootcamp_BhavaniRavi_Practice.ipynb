{
  "nbformat": 4,
  "nbformat_minor": 0,
  "metadata": {
    "colab": {
      "name": "Bootcamp-BhavaniRavi-Practice.ipynb",
      "provenance": [],
      "authorship_tag": "ABX9TyMPkLTY9mEAfMveYI/QbFTV",
      "include_colab_link": true
    },
    "kernelspec": {
      "name": "python3",
      "display_name": "Python 3"
    },
    "language_info": {
      "name": "python"
    }
  },
  "cells": [
    {
      "cell_type": "markdown",
      "metadata": {
        "id": "view-in-github",
        "colab_type": "text"
      },
      "source": [
        "<a href=\"https://colab.research.google.com/github/nitikshahere/PracticePython/blob/main/Bootcamp_BhavaniRavi_Practice.ipynb\" target=\"_parent\"><img src=\"https://colab.research.google.com/assets/colab-badge.svg\" alt=\"Open In Colab\"/></a>"
      ]
    },
    {
      "cell_type": "code",
      "metadata": {
        "id": "pzSkplHexRAA"
      },
      "source": [
        "#EXE.1\n",
        "#Create a program that asks the user to enter their name and their age.Print out a message addressed to them that tells them the year that they will turn 100 years old.\n",
        "name = input(\"what is your name? :\")\n",
        "age = int (input(\"How old are you, as of 2021?:\" ))\n",
        "i = (100 - age)\n",
        "year = str(2021+i)\n",
        "print(name +\" will turn 100 years in \"+ year)\n",
        "j = int (input(\"Enter another number to repeat the message multiple times:\"))\n",
        "print(j*(name +\" will turn 100 years in \"+ year))"
      ],
      "execution_count": null,
      "outputs": []
    },
    {
      "cell_type": "code",
      "metadata": {
        "colab": {
          "base_uri": "https://localhost:8080/"
        },
        "id": "IGr6DotH0HV3",
        "outputId": "c21f85ca-1f56-46fb-a7a0-58a7bbbff04a"
      },
      "source": [
        "#EXE.2\n",
        "#Ask the user for a number. Depending on whether the number is even or odd, print out an appropriate message to the user. Hint: how does an even / odd number react differently when divided by 2?\n",
        "#Extras:\n",
        "#If the number is a multiple of 4, print out a different message.\n",
        "#Ask the user for two numbers: one number to check (call it num) and one number to divide by (check). If check divides evenly into num, tell that to the user. If not, print a different appropriate message.\n",
        "\n",
        "num = int(input(\"give me a number to check wheather its even or odd: \"))\n",
        "check = int(input(\"give me a number to divide by: \"))\n",
        "\n",
        "if num % 4 == 0:\n",
        "    print(num, \"is a multiple of 4\")\n",
        "elif num % 2 == 0:\n",
        "    print(num, \"is an even number\")\n",
        "else:\n",
        "    print(num, \"is an odd number\")\n",
        "\n",
        "if num % check == 0:\n",
        "    print(num, \"divides evenly by\", check)\n",
        "else:\n",
        "    print(num, \"does not divide evenly by\", check)\n"
      ],
      "execution_count": null,
      "outputs": [
        {
          "output_type": "stream",
          "text": [
            "give me a number to check wheather its even or odd: 14\n",
            "give me a number to divide by: 2\n",
            "14 is an even number\n",
            "14 divides evenly by 2\n"
          ],
          "name": "stdout"
        }
      ]
    },
    {
      "cell_type": "code",
      "metadata": {
        "id": "Aa-SdO4h5H2G",
        "colab": {
          "base_uri": "https://localhost:8080/",
          "height": 131
        },
        "outputId": "62ceb546-64e2-47b1-ed85-c3854b4a1429"
      },
      "source": [
        "#EX.3\n",
        "#Take a list, say for example this one:\n",
        "#a = [1, 1, 2, 3, 5, 8, 13, 21, 34, 55, 89]\n",
        "#and write a program that prints out all the elements of the list that are less than 5.\n",
        "#Extras:\n",
        "#Instead of printing the elements one by one, make a new list that has all the elements less than 5 from this list in it and print out this new list.\n",
        "#Write this in one line of Python.\n",
        "#Ask the user for a number and return a list that contains only elements from the original list a that are smaller than that number given by the user.\n",
        "\n",
        "x_list = [1,1,2,3,5,8,13,21,34,55,89]\n",
        "y_list = []\n",
        "for i in x_list:\n",
        "        if(x_list<5):\n",
        "        print(str(x_list)+\"\\n\")"
      ],
      "execution_count": 17,
      "outputs": [
        {
          "output_type": "error",
          "ename": "IndentationError",
          "evalue": "ignored",
          "traceback": [
            "\u001b[0;36m  File \u001b[0;32m\"<ipython-input-17-3050877404fc>\"\u001b[0;36m, line \u001b[0;32m14\u001b[0m\n\u001b[0;31m    print(str(x_list)+\"\\n\")\u001b[0m\n\u001b[0m        ^\u001b[0m\n\u001b[0;31mIndentationError\u001b[0m\u001b[0;31m:\u001b[0m expected an indented block\n"
          ]
        }
      ]
    },
    {
      "cell_type": "code",
      "metadata": {
        "id": "mmGrzO7o-WY-"
      },
      "source": [
        ""
      ],
      "execution_count": null,
      "outputs": []
    }
  ]
}